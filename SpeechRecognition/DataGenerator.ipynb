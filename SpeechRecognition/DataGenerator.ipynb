{
  "nbformat": 4,
  "nbformat_minor": 0,
  "metadata": {
    "colab": {
      "name": "DataGenerator",
      "provenance": [],
      "collapsed_sections": []
    },
    "kernelspec": {
      "name": "python3",
      "display_name": "Python 3"
    }
  },
  "cells": [
    {
      "cell_type": "code",
      "metadata": {
        "id": "vJ39oNCDiLzc",
        "colab_type": "code",
        "outputId": "0088391f-2345-4345-dcb6-a2f5d4427067",
        "colab": {
          "base_uri": "https://localhost:8080/",
          "height": 134
        }
      },
      "source": [
        "import numpy as np\n",
        "import keras\n",
        "import librosa\n",
        "import __future__\n",
        "import os\n",
        "!pip install pysoundfile\n",
        "import tensorflow as tf\n",
        "import soundfile as sf \n",
        "from matplotlib import pyplot as plt"
      ],
      "execution_count": 0,
      "outputs": [
        {
          "output_type": "stream",
          "text": [
            "Using TensorFlow backend.\n"
          ],
          "name": "stderr"
        },
        {
          "output_type": "stream",
          "text": [
            "Collecting pysoundfile\n",
            "  Downloading https://files.pythonhosted.org/packages/2a/b3/0b871e5fd31b9a8e54b4ee359384e705a1ca1e2870706d2f081dc7cc1693/PySoundFile-0.9.0.post1-py2.py3-none-any.whl\n",
            "Requirement already satisfied: cffi>=0.6 in /usr/local/lib/python3.6/dist-packages (from pysoundfile) (1.14.0)\n",
            "Requirement already satisfied: pycparser in /usr/local/lib/python3.6/dist-packages (from cffi>=0.6->pysoundfile) (2.20)\n",
            "Installing collected packages: pysoundfile\n",
            "Successfully installed pysoundfile-0.9.0.post1\n"
          ],
          "name": "stdout"
        }
      ]
    },
    {
      "cell_type": "code",
      "metadata": {
        "id": "KDE241UXC2KC",
        "colab_type": "code",
        "outputId": "e87d3caa-c205-467a-e1e4-12df65bac476",
        "colab": {
          "base_uri": "https://localhost:8080/",
          "height": 202
        }
      },
      "source": [
        "#for file in dev-clean.tar.gz \n",
        "!wget http://www.openslr.org/resources/12/dev-clean.tar.gz"
      ],
      "execution_count": 0,
      "outputs": [
        {
          "output_type": "stream",
          "text": [
            "--2020-06-14 17:26:44--  http://www.openslr.org/resources/12/dev-clean.tar.gz\n",
            "Resolving www.openslr.org (www.openslr.org)... 46.101.158.64\n",
            "Connecting to www.openslr.org (www.openslr.org)|46.101.158.64|:80... connected.\n",
            "HTTP request sent, awaiting response... 200 OK\n",
            "Length: 337926286 (322M) [application/x-gzip]\n",
            "Saving to: ‘dev-clean.tar.gz’\n",
            "\n",
            "dev-clean.tar.gz    100%[===================>] 322.27M  9.98MB/s    in 32s     \n",
            "\n",
            "2020-06-14 17:27:17 (10.1 MB/s) - ‘dev-clean.tar.gz’ saved [337926286/337926286]\n",
            "\n"
          ],
          "name": "stdout"
        }
      ]
    },
    {
      "cell_type": "code",
      "metadata": {
        "id": "Qw0Jep2DqQzN",
        "colab_type": "code",
        "colab": {}
      },
      "source": [
        "os.listdir()\n",
        "os.mkdir(\"/tmp/data\")\n",
        "os.listdir()\n",
        "!tar -xf dev-clean.tar.gz -C /tmp/data"
      ],
      "execution_count": 0,
      "outputs": []
    },
    {
      "cell_type": "code",
      "metadata": {
        "id": "8GC9sRsSqhlh",
        "colab_type": "code",
        "outputId": "5ccb5e2e-4e9d-4ff6-a355-f63c74aaa6c1",
        "colab": {
          "base_uri": "https://localhost:8080/",
          "height": 34
        }
      },
      "source": [
        "os.listdir('/tmp/data')"
      ],
      "execution_count": 0,
      "outputs": [
        {
          "output_type": "execute_result",
          "data": {
            "text/plain": [
              "['LibriSpeech']"
            ]
          },
          "metadata": {
            "tags": []
          },
          "execution_count": 7
        }
      ]
    },
    {
      "cell_type": "code",
      "metadata": {
        "id": "QMl8N8Do1RW9",
        "colab_type": "code",
        "outputId": "a8a1b71a-5c6d-4139-bb61-c48e3cdb1bc7",
        "colab": {
          "base_uri": "https://localhost:8080/",
          "height": 118
        }
      },
      "source": [
        "os.listdir('/tmp/data/LibriSpeech')"
      ],
      "execution_count": 0,
      "outputs": [
        {
          "output_type": "execute_result",
          "data": {
            "text/plain": [
              "['LICENSE.TXT',\n",
              " 'dev-clean',\n",
              " 'CHAPTERS.TXT',\n",
              " 'SPEAKERS.TXT',\n",
              " 'BOOKS.TXT',\n",
              " 'README.TXT']"
            ]
          },
          "metadata": {
            "tags": []
          },
          "execution_count": 8
        }
      ]
    },
    {
      "cell_type": "code",
      "metadata": {
        "id": "e5PClvm6FxeG",
        "colab_type": "code",
        "outputId": "94d777f1-f512-48dd-9474-a170f45b0f63",
        "colab": {
          "base_uri": "https://localhost:8080/",
          "height": 689
        }
      },
      "source": [
        "os.listdir('/tmp/data/LibriSpeech/dev-clean')"
      ],
      "execution_count": 0,
      "outputs": [
        {
          "output_type": "execute_result",
          "data": {
            "text/plain": [
              "['5536',\n",
              " '5895',\n",
              " '2078',\n",
              " '5338',\n",
              " '3752',\n",
              " '1993',\n",
              " '652',\n",
              " '6241',\n",
              " '7976',\n",
              " '1462',\n",
              " '6295',\n",
              " '1919',\n",
              " '2803',\n",
              " '3000',\n",
              " '3081',\n",
              " '251',\n",
              " '2428',\n",
              " '6313',\n",
              " '84',\n",
              " '6319',\n",
              " '422',\n",
              " '5694',\n",
              " '3853',\n",
              " '777',\n",
              " '1988',\n",
              " '2035',\n",
              " '3536',\n",
              " '6345',\n",
              " '2086',\n",
              " '3170',\n",
              " '1673',\n",
              " '174',\n",
              " '7850',\n",
              " '8842',\n",
              " '8297',\n",
              " '2277',\n",
              " '2412',\n",
              " '1272',\n",
              " '2902',\n",
              " '3576']"
            ]
          },
          "metadata": {
            "tags": []
          },
          "execution_count": 9
        }
      ]
    },
    {
      "cell_type": "code",
      "metadata": {
        "id": "5CXILIedF3pj",
        "colab_type": "code",
        "outputId": "9515b8cb-21b2-4118-aaeb-6f7d3decd224",
        "colab": {
          "base_uri": "https://localhost:8080/",
          "height": 34
        }
      },
      "source": [
        "os.listdir('/tmp/data/LibriSpeech/dev-clean/5536')"
      ],
      "execution_count": 0,
      "outputs": [
        {
          "output_type": "execute_result",
          "data": {
            "text/plain": [
              "['43358', '43363', '43359']"
            ]
          },
          "metadata": {
            "tags": []
          },
          "execution_count": 10
        }
      ]
    },
    {
      "cell_type": "code",
      "metadata": {
        "id": "P03xKQ4iI5T3",
        "colab_type": "code",
        "outputId": "75102977-1966-411f-a217-72428673392d",
        "colab": {
          "base_uri": "https://localhost:8080/",
          "height": 370
        }
      },
      "source": [
        "os.listdir('/tmp/data/LibriSpeech/dev-clean/5536/43358')"
      ],
      "execution_count": 0,
      "outputs": [
        {
          "output_type": "execute_result",
          "data": {
            "text/plain": [
              "['5536-43358-0000.flac',\n",
              " '5536-43358-0015.flac',\n",
              " '5536-43358-0008.flac',\n",
              " '5536-43358-0001.flac',\n",
              " '5536-43358.trans.txt',\n",
              " '5536-43358-0010.flac',\n",
              " '5536-43358-0017.flac',\n",
              " '5536-43358-0005.flac',\n",
              " '5536-43358-0007.flac',\n",
              " '5536-43358-0018.flac',\n",
              " '5536-43358-0003.flac',\n",
              " '5536-43358-0011.flac',\n",
              " '5536-43358-0002.flac',\n",
              " '5536-43358-0006.flac',\n",
              " '5536-43358-0004.flac',\n",
              " '5536-43358-0019.flac',\n",
              " '5536-43358-0016.flac',\n",
              " '5536-43358-0009.flac',\n",
              " '5536-43358-0014.flac',\n",
              " '5536-43358-0013.flac',\n",
              " '5536-43358-0012.flac']"
            ]
          },
          "metadata": {
            "tags": []
          },
          "execution_count": 11
        }
      ]
    },
    {
      "cell_type": "code",
      "metadata": {
        "id": "u-f5jeOtJBkv",
        "colab_type": "code",
        "outputId": "7b123b7b-0086-4916-e959-f48045f5cb6b",
        "colab": {
          "base_uri": "https://localhost:8080/",
          "height": 390
        }
      },
      "source": [
        "f = open('/tmp/data/LibriSpeech/dev-clean/5536/43358/5536-43358.trans.txt','r')\n",
        "print (f.read())\n",
        "# sample to perceive the transcripts for each file"
      ],
      "execution_count": 0,
      "outputs": [
        {
          "output_type": "stream",
          "text": [
            "5536-43358-0000 THE SAVAGE PHILOSOPHER THE DUAL MIND\n",
            "5536-43358-0001 THE ORIGINAL ATTITUDE OF THE AMERICAN INDIAN TOWARD THE ETERNAL THE GREAT MYSTERY THAT SURROUNDS AND EMBRACES US WAS AS SIMPLE AS IT WAS EXALTED\n",
            "5536-43358-0002 IT WAS SILENT BECAUSE ALL SPEECH IS OF NECESSITY FEEBLE AND IMPERFECT THEREFORE THE SOULS OF MY ANCESTORS ASCENDED TO GOD IN WORDLESS ADORATION\n",
            "5536-43358-0003 NONE MIGHT EXHORT OR CONFESS OR IN ANY WAY MEDDLE WITH THE RELIGIOUS EXPERIENCE OF ANOTHER\n",
            "5536-43358-0004 AMONG US ALL MEN WERE CREATED SONS OF GOD AND STOOD ERECT AS CONSCIOUS OF THEIR DIVINITY\n",
            "5536-43358-0005 THAT SOLITARY COMMUNION WITH THE UNSEEN WHICH WAS THE HIGHEST EXPRESSION OF OUR RELIGIOUS LIFE IS PARTLY DESCRIBED IN THE WORD BAMBEDAY LITERALLY MYSTERIOUS FEELING WHICH HAS BEEN VARIOUSLY TRANSLATED FASTING AND DREAMING\n",
            "5536-43358-0006 THE FIRST BAMBEDAY OR RELIGIOUS RETREAT MARKED AN EPOCH IN THE LIFE OF THE YOUTH WHICH MAY BE COMPARED TO THAT OF CONFIRMATION OR CONVERSION IN CHRISTIAN EXPERIENCE\n",
            "5536-43358-0007 KNOWING THAT GOD SETS NO VALUE UPON MATERIAL THINGS HE TOOK WITH HIM NO OFFERINGS OR SACRIFICES OTHER THAN SYMBOLIC OBJECTS SUCH AS PAINTS AND TOBACCO\n",
            "5536-43358-0008 AT THE SOLEMN HOUR OF SUNRISE OR SUNSET HE TOOK UP HIS POSITION OVERLOOKING THE GLORIES OF EARTH AND FACING THE GREAT MYSTERY AND THERE HE REMAINED NAKED ERECT SILENT AND MOTIONLESS EXPOSED TO THE ELEMENTS AND FORCES OF HIS ARMING FOR A NIGHT AND A DAY TO TWO DAYS AND NIGHTS BUT RARELY LONGER\n",
            "5536-43358-0009 WHEN HE RETURNED TO THE CAMP HE MUST REMAIN AT A DISTANCE UNTIL HE HAD AGAIN ENTERED THE VAPOR BATH AND PREPARED HIMSELF FOR INTERCOURSE WITH HIS FELLOWS\n",
            "5536-43358-0010 IT WAS NOT THEN WHOLLY FROM IGNORANCE OR IMPROVIDENCE THAT HE FAILED TO ESTABLISH PERMANENT TOWNS AND TO DEVELOP A MATERIAL CIVILIZATION\n",
            "5536-43358-0011 TO THE UNTUTORED SAGE THE CONCENTRATION OF POPULATION WAS THE PROLIFIC MOTHER OF ALL EVILS MORAL NO LESS THAN PHYSICAL\n",
            "5536-43358-0012 IN THIS TYPE OF PRAYER THERE WAS NO BESEECHING OF FAVOR OR HELP\n",
            "5536-43358-0013 FROM THE SUN AS THE UNIVERSAL FATHER PROCEEDS THE QUICKENING PRINCIPLE IN NATURE AND IN THE PATIENT AND FRUITFUL WOMB OF OUR MOTHER THE EARTH ARE HIDDEN EMBRYOS OF PLANTS AND MEN\n",
            "5536-43358-0014 THIS IS THE MATERIAL OR PHYSICAL PRAYER\n",
            "5536-43358-0015 NOTHING OF THE MARVELOUS COULD ASTONISH HIM AS THAT A BEAST SHOULD SPEAK OR THE SUN STAND STILL\n",
            "5536-43358-0016 WHO MAY CONDEMN HIS SUPERSTITION\n",
            "5536-43358-0017 HERE IS THE SUPREME MYSTERY THAT IS THE ESSENCE OF WORSHIP WITHOUT WHICH THERE CAN BE NO RELIGION AND IN THE PRESENCE OF THIS MYSTERY OUR ATTITUDE CANNOT BE VERY UNLIKE THAT OF THE NATURAL PHILOSOPHER WHO BEHOLDS WITH AWE THE DIVINE IN ALL CREATION\n",
            "5536-43358-0018 IN HIS OWN THOUGHT HE ROSE SUPERIOR TO THEM HE SCORNED THEM EVEN AS A LOFTY SPIRIT ABSORBED IN ITS STERN TASK REJECTS THE SOFT BEDS THE LUXURIOUS FOOD THE PLEASURE WORSHIPING DALLIANCE OF A RICH NEIGHBOR\n",
            "5536-43358-0019 THE HISTORIANS OF THE WHITE RACE ADMIT THAT THE INDIAN WAS NEVER THE FIRST TO REPUDIATE HIS OATH\n",
            "\n"
          ],
          "name": "stdout"
        }
      ]
    },
    {
      "cell_type": "code",
      "metadata": {
        "id": "zFyjwhDy1Stn",
        "colab_type": "code",
        "outputId": "49075659-b83e-4041-eedc-0ad00e44aaff",
        "colab": {
          "base_uri": "https://localhost:8080/",
          "height": 284
        }
      },
      "source": [
        "x, sr = librosa.load('/tmp/data/LibriSpeech/dev-clean/5536/43358/5536-43358-0000.flac', sr = 16000)\n",
        "plt.plot(x)\n",
        "#plotting the .flac file"
      ],
      "execution_count": 0,
      "outputs": [
        {
          "output_type": "execute_result",
          "data": {
            "text/plain": [
              "[<matplotlib.lines.Line2D at 0x7f3a974f2400>]"
            ]
          },
          "metadata": {
            "tags": []
          },
          "execution_count": 13
        },
        {
          "output_type": "display_data",
          "data": {
            "image/png": "[encoded data removed]",
            "text/plain": [
              "<Figure size 432x288 with 1 Axes>"
            ]
          },
          "metadata": {
            "tags": [],
            "needs_background": "light"
          }
        }
      ]
    },
    {
      "cell_type": "code",
      "metadata": {
        "id": "hoJicPZBD9-g",
        "colab_type": "code",
        "colab": {}
      },
      "source": [
        "\"\"\"dev-clean has sub-directories which further have sub-directories \n",
        "   within which are stored .flac file and transcripts for the same.\n",
        "\n",
        "   In the code below we try to access each of the transcripts and their .flac \n",
        "   files by running nested loops. We keep appending this data to make\n",
        "   a list\"\"\"\n",
        "def datadevclean():\n",
        "  data = []\n",
        "  for i in os.listdir('/tmp/data/LibriSpeech/dev-clean'):\n",
        "    for j in os.listdir('/tmp/data/LibriSpeech/dev-clean/'+ i):\n",
        "      for k in os.listdir('/tmp/data/LibriSpeech/dev-clean/' + i + '/' + j):\n",
        "        if k.endswith('trans.txt'):\n",
        "          \n",
        "          \"\"\"we open each transcript and store the lines(as trans) and the \n",
        "            corresponding .flac file (as audiofile) of that line\n",
        "            then we append it\"\"\"\n",
        "\n",
        "          transfile = '/tmp/data/LibriSpeech/dev-clean/' + i + '/' + j + '/' + k\n",
        "          with open(transfile, \"r\") as file:\n",
        "            for line in file:\n",
        "              posofspace = line.find(' ',0,20)\n",
        "              if (posofspace != -1):\n",
        "                trans = line[(posofspace+1):]\n",
        "                audiofile = '/tmp/data/LibriSpeech/dev-clean/' + i + '/' + j + '/' + line[:posofspace] + '.flac'\n",
        "                sample = (audiofile, trans)  \n",
        "                data.append (sample)\n",
        "          file.closed\n",
        "  # print (data) \n",
        "  return data\n",
        "# print (data)  "
      ],
      "execution_count": 0,
      "outputs": []
    },
    {
      "cell_type": "code",
      "metadata": {
        "id": "BbW08Xi05eMm",
        "colab_type": "code",
        "colab": {}
      },
      "source": [
        "token_to_index={'<pad>': 0,\n",
        "                'a': 1,\n",
        "                'b': 2,\n",
        "                'c': 3,\n",
        "                'd': 4,\n",
        "                'e': 5,\n",
        "                'f': 6,\n",
        "                'g': 7,\n",
        "                'h': 8,\n",
        "                'i': 9,\n",
        "                'j': 10,\n",
        "                'k': 11,\n",
        "                'l': 12,\n",
        "                'm': 13,\n",
        "                'n': 14,\n",
        "                'o': 15,\n",
        "                'p': 16,\n",
        "                'q': 17,\n",
        "                'r': 18,\n",
        "                's': 19,\n",
        "                't': 20,\n",
        "                'u': 21,\n",
        "                'v': 22,\n",
        "                'w': 23,\n",
        "                'x': 24,\n",
        "                'y': 25,\n",
        "                'z': 26,\n",
        "                ' ': 27\n",
        "                }"
      ],
      "execution_count": 0,
      "outputs": []
    },
    {
      "cell_type": "code",
      "metadata": {
        "id": "c3WZNCn3EIPN",
        "colab_type": "code",
        "outputId": "18ce3f73-3170-47be-b542-fc4c319efc54",
        "colab": {
          "base_uri": "https://localhost:8080/",
          "height": 54
        }
      },
      "source": [
        "# \"\"\"loading the textaudiofeatures.ipynb from drive the same has been uploaded in\n",
        "#    the git repo also at \n",
        "#    https://colab.research.google.com/drive/1RG_kFj1c3-AIiGvHuSVN0k3U2GOuFUGJ#scrollTo=8AoHl2akh7WO\n",
        "#    this file extracts features from text and audio input\n",
        "# \"\"\"\n",
        "# from google.colab import drive\n",
        "# drive.mount ('/content/drive')\n",
        "# \"\"\" authenticating google drive access\"\"\"\n",
        "# !pip install -U -q PyDrive\n",
        "# from pydrive.auth import GoogleAuth\n",
        "# from pydrive.drive import GoogleDrive\n",
        "# from google.colab import auth\n",
        "# from oauth2client.client import GoogleCredentials\n",
        "# auth.authenticate_user()\n",
        "# gauth = GoogleAuth()\n",
        "# gauth.credentials = GoogleCredentials.get_application_default()\n",
        "# drive = GoogleDrive(gauth)\n",
        "\n",
        "# fid = drive.ListFile({'q':\"title='textaudiofeatures.ipynb'\"}).GetList()[0]['id']\n",
        "# f = drive.CreateFile({'id': fid})\n",
        "# print(fid)\n",
        "# f.GetContentFile('textaudiofeatures.ipynb')\n",
        "# import textaudiofeatures "
      ],
      "execution_count": 0,
      "outputs": [
        {
          "output_type": "execute_result",
          "data": {
            "text/plain": [
              "'loading the textaudiofeatures.ipynb from drive the same has been uploaded in\\n   the git repo also at \\n   https://colab.research.google.com/drive/1RG_kFj1c3-AIiGvHuSVN0k3U2GOuFUGJ#scrollTo=8AoHl2akh7WO\\n   this file extracts features from text and audio input\\n'"
            ]
          },
          "metadata": {
            "tags": []
          },
          "execution_count": 16
        }
      ]
    },
    {
      "cell_type": "code",
      "metadata": {
        "id": "nGUSABW_RGVl",
        "colab_type": "code",
        "colab": {}
      },
      "source": [
        "\"\"\" the following two functions has also been uploaded by me before on a jupyter notebook at\n",
        "    https://colab.research.google.com/drive/1RG_kFj1c3-AIiGvHuSVN0k3U2GOuFUGJ#scrollTo=8AoHl2akh7WO\n",
        "\"\"\"\n",
        "\n",
        "def spectrogram_features(samples, samplerate, stridems=10.0,\n",
        "                                windowms=20.0, freqmax=None, eps=1e-14):\n",
        "  \"\"\"Compute the spectrograms for the input samples(waveforms).\"\"\"\n",
        "  \n",
        "  # samplerate is the number of times a signal is read in a second (eg n, then the signal is sampled every 1/n seconds)\n",
        "  # windowms is the number of samples(window duration) in ms\n",
        "\n",
        "  # samplerate/2 is the Nyquist frequency\n",
        "  if freqmax is None:\n",
        "    freqmax = samplerate / 2\n",
        "\n",
        "  # raising exception when maximum freq is above Nyquist frequency  \n",
        "  if freqmax > samplerate / 2:\n",
        "    raise ValueError(\"freqmax must not be greater than half of sample rate.\")\n",
        "\n",
        "  if stridems > windowms:\n",
        "    raise ValueError(\"Stride size must not be greater than window size.\")\n",
        "\n",
        "  # stride_size is the frame (window) overlap amplitudes (frequency bins)\n",
        "  # each window is going to have window_size amplitudes\n",
        "  stride_size = int(0.001 * samplerate * stridems)\n",
        "  window_size = int(0.001 * samplerate * windowms)\n",
        "\n",
        "  # Extract strided windows\n",
        "  truncate_size = (len(samples) - window_size) % stride_size\n",
        "  samples = samples[:len(samples) - truncate_size]\n",
        "  nshape = (window_size, (len(samples) - window_size) // stride_size + 1)\n",
        "  nstrides = (samples.strides[0], samples.strides[0] * stride_size)\n",
        "  windows = np.lib.stride_tricks.as_strided(\n",
        "      samples, shape=nshape, strides=nstrides)\n",
        "  assert np.all(\n",
        "      windows[:, 1] == samples[stride_size:(stride_size + window_size)])\n",
        "\n",
        "  # Window weighting, squared Fast Fourier Transform (fft), scaling\n",
        "  # Weighting window is used here to handle discontinuity of this small signal\n",
        "  weighting = np.hanning(window_size)[:, None]\n",
        "  fft = np.fft.rfft(windows * weighting, axis=0)\n",
        "  fft = np.absolute(fft)\n",
        "  fft = fft**2\n",
        "  scale = np.sum(weighting**2) * samplerate\n",
        "  fft[1:-1, :] *= (2.0 / scale)\n",
        "  fft[(0, -1), :] /= scale\n",
        "  # Prepare fft frequency list\n",
        "  freqs = float(samplerate) / window_size * np.arange(fft.shape[0])\n",
        "\n",
        "  # Compute spectrogram feature\n",
        "  ind = np.where(freqs <= freqmax)[0][-1] + 1\n",
        "  specgram = np.log(fft[:ind, :] + eps)\n",
        "  return np.transpose(specgram, (1, 0))"
      ],
      "execution_count": 0,
      "outputs": []
    },
    {
      "cell_type": "code",
      "metadata": {
        "id": "rswjYBRUExbH",
        "colab_type": "code",
        "colab": {}
      },
      "source": [
        "def label_feature(text, token_to_index):\n",
        "  \"\"\"Convert string to a list of integers.\"\"\"\n",
        "\n",
        "  # removing all the leading and trailing spaces from a string and then converting into lowercase and making a list of it\n",
        "  tokens = list(text.strip().lower())\n",
        "  features = [token_to_index[token] for token in tokens]\n",
        "  return features"
      ],
      "execution_count": 0,
      "outputs": []
    },
    {
      "cell_type": "code",
      "metadata": {
        "id": "GUx7bEc1uKmd",
        "colab_type": "code",
        "colab": {}
      },
      "source": [
        "data = datadevclean()\n",
        "# print(data[0])\n",
        "# print(len(data))\n",
        "traindata = data[:1500]\n",
        "# print(traindata[0])\n",
        "# print(len(traindata))\n",
        "validdata = data[1500:]\n",
        "class DataGenerator (keras.utils.Sequence):\n",
        "\n",
        "  def __init__(self, batch_size = 32, shuffle=True, dim = (1874,161)):\n",
        "    # Constructor for the class assigning ivalues to object properties\n",
        "    self.batch_size = batch_size\n",
        "    # self.data = data\n",
        "    self.data = datadevclean()\n",
        "    self.list_IDs = np.arange(len(data))\n",
        "    self.shuffle = shuffle\n",
        "    self.on_epoch_end()\n",
        "    self.dim = dim\n",
        "\n",
        "  def __len__ (self):  \n",
        "    # Returns number of batches per epoch\n",
        "    #print int (np.floor (len (self.list_IDs) / self.batch_size))\n",
        "    return int (np.floor (len (self.list_IDs) / self.batch_size))\n",
        " \n",
        "  def __getitem__ (self, index):\n",
        "    # Return 1 batch of data\n",
        "\n",
        "    # 'Generate indexes of the batch'\n",
        "    indexes = self.indexes [index*self.batch_size:(index+1)*self.batch_size]\n",
        "    # print (indexes)\n",
        "\n",
        "    # 'Find list of IDs'\n",
        "    list_IDs_temp = [self.list_IDs[k] for k in indexes]\n",
        "    # print (list_IDs_temp)\n",
        "\n",
        "    # 'Generate data'\n",
        "    X, y = self.__data_generation (list_IDs_temp)\n",
        "\n",
        "    # print (X)\n",
        "    # print (y)\n",
        "\n",
        "    return X, y\n",
        "\n",
        "  def on_epoch_end (self):\n",
        "    # Updates indexes or shuffle them after each epoch\n",
        "    self.indexes = np.arange (len (self.list_IDs))\n",
        "    if self.shuffle == True:\n",
        "      np.random.shuffle (self.indexes)\n",
        "\n",
        "  def __data_generation (self, list_IDs_temp):\n",
        "    # Generates data containing batch_size samples\n",
        "    X = np.empty((self.batch_size, *self.dim))\n",
        "    Y = np.empty((self.batch_size), dtype =list)\n",
        "    for i, ID in enumerate(list_IDs_temp):\n",
        "      audiofilepath, transcript = data[i]\n",
        "      audio, samplerate = sf.read(audiofilepath)\n",
        "      linetoidx = label_feature(transcript, token_to_index)\n",
        "      # print (samplerate)\n",
        "      # print (audio)\n",
        "      # print (len(audio))\n",
        "      # plt.plot(audio)\n",
        "      if len(audio)>300000:\n",
        "            audio = audio[:300000]\n",
        "      else:\n",
        "            audio = np.pad(audio, (0, max(0, 300000 - len(audio))), \"constant\")\n",
        "      x = spectrogram_features(audio, samplerate, stridems=10.0,\n",
        "                                windowms=20.0, freqmax=None, eps=1e-14)\n",
        "      if len(linetoidx) > 500:\n",
        "        linetoidx = linetoidx[:500]\n",
        "      else:\n",
        "        linetoidx = np.pad(linetoidx, (0, max(0, 500 - len(linetoidx))), \"constant\")\n",
        "      # print (x)\n",
        "      # print (type(audio))\n",
        "      # print(linetoidx)\n",
        "      # print (type(linetoidx))\n",
        "      # print (list(linetoidx))\n",
        "      X[i,]=x\n",
        "      Y[i]=list(linetoidx)\n",
        "    return X, Y"
      ],
      "execution_count": 0,
      "outputs": []
    },
    {
      "cell_type": "code",
      "metadata": {
        "id": "jravJfmG4Wlp",
        "colab_type": "code",
        "outputId": "e60823dd-310f-4272-e7cf-b726c770a2f9",
        "colab": {
          "base_uri": "https://localhost:8080/",
          "height": 958
        }
      },
      "source": [
        "train = DataGenerator()\n",
        "print(len(train))\n",
        "x, y =train.__getitem__(10)\n",
        "print(x[10][1])\n",
        "print(x[10])\n",
        "print(len(x[10]))\n",
        "print(y[10])\n",
        "print(len(y[10]))\n",
        "plt.imshow(np.transpose(x[10]))"
      ],
      "execution_count": 47,
      "outputs": [
        {
          "output_type": "stream",
          "text": [
            "84\n",
            "[-24.17099347 -18.41639434 -18.35941488 -20.94476492 -22.46692846\n",
            " -22.26350046 -24.59447268 -23.52515813 -22.76446262 -22.73006398\n",
            " -24.41032687 -25.37048961 -24.47260839 -24.27616092 -25.32889376\n",
            " -24.50952599 -23.02778138 -23.45133557 -24.63876799 -24.03353309\n",
            " -24.65651349 -24.806553   -24.84478573 -24.86604459 -24.08080468\n",
            " -23.89975362 -24.23993297 -25.92099287 -24.81219861 -23.38166543\n",
            " -23.97692839 -25.06667025 -25.94449588 -26.08434314 -25.16261857\n",
            " -24.34384983 -24.42370144 -25.43554792 -25.88698362 -25.07373657\n",
            " -25.89507108 -28.06679332 -29.0933442  -26.70799301 -25.89471644\n",
            " -24.49300701 -24.94888458 -24.33960743 -24.74225685 -26.02102806\n",
            " -24.50515093 -25.97613388 -27.8833619  -28.04694234 -29.93583811\n",
            " -28.32015242 -27.51189083 -26.95294278 -25.4062068  -29.34594873\n",
            " -25.44598867 -26.24971465 -26.86695145 -26.31716056 -27.48972489\n",
            " -25.38862942 -25.63825696 -27.89901826 -26.24357393 -25.13751579\n",
            " -25.7661666  -25.67021838 -25.36872984 -25.46682208 -27.14738322\n",
            " -27.9160067  -27.06944273 -24.65387403 -25.18563607 -25.69158696\n",
            " -25.5408543  -26.88493085 -28.74190223 -27.61410283 -25.59168932\n",
            " -26.13626816 -26.65900873 -27.21965006 -28.38710119 -31.16443162\n",
            " -26.51023155 -26.4364346  -28.76867811 -27.66594833 -27.64329587\n",
            " -26.58200313 -26.45735966 -25.5530121  -25.38024002 -25.53580549\n",
            " -25.65660058 -26.9202872  -26.73304177 -26.53827494 -26.8134008\n",
            " -26.44816449 -26.16533028 -26.68633858 -29.70552748 -27.67667687\n",
            " -28.48398844 -27.91516148 -27.43079058 -27.09034726 -26.91818617\n",
            " -26.34528394 -27.29253344 -28.68265023 -26.82137802 -27.3367997\n",
            " -26.01117774 -26.61541038 -28.04620668 -27.48323568 -28.70852237\n",
            " -30.71741979 -27.77685692 -27.60864836 -28.12894648 -30.90859855\n",
            " -30.10950369 -29.43453647 -28.55926429 -27.61860941 -28.00807292\n",
            " -27.38094826 -26.02225341 -26.23053898 -26.85543259 -26.72458543\n",
            " -26.22861012 -27.74066656 -28.65820718 -30.68053864 -27.07212576\n",
            " -26.99097914 -28.32352812 -27.80076293 -27.15058634 -27.34790616\n",
            " -27.75731331 -28.4378809  -27.01775231 -27.32264861 -28.74929093\n",
            " -27.09802348 -27.33737054 -28.66466223 -28.74743869 -27.03201303\n",
            " -26.92970068]\n",
            "[[-20.5891372  -18.70196884 -19.97845865 ... -28.39784592 -28.62608915\n",
            "  -29.94737543]\n",
            " [-24.17099347 -18.41639434 -18.35941488 ... -28.74743869 -27.03201303\n",
            "  -26.92970068]\n",
            " [-22.23114416 -19.33048435 -18.47911907 ... -27.68619265 -26.9837822\n",
            "  -27.29008275]\n",
            " ...\n",
            " [-32.2361913  -32.2361913  -32.2361913  ... -32.2361913  -32.2361913\n",
            "  -32.2361913 ]\n",
            " [-32.2361913  -32.2361913  -32.2361913  ... -32.2361913  -32.2361913\n",
            "  -32.2361913 ]\n",
            " [-32.2361913  -32.2361913  -32.2361913  ... -32.2361913  -32.2361913\n",
            "  -32.2361913 ]]\n",
            "1874\n",
            "[9, 20, 27, 23, 1, 19, 27, 14, 15, 20, 27, 20, 8, 5, 14, 27, 23, 8, 15, 12, 12, 25, 27, 6, 18, 15, 13, 27, 9, 7, 14, 15, 18, 1, 14, 3, 5, 27, 15, 18, 27, 9, 13, 16, 18, 15, 22, 9, 4, 5, 14, 3, 5, 27, 20, 8, 1, 20, 27, 8, 5, 27, 6, 1, 9, 12, 5, 4, 27, 20, 15, 27, 5, 19, 20, 1, 2, 12, 9, 19, 8, 27, 16, 5, 18, 13, 1, 14, 5, 14, 20, 27, 20, 15, 23, 14, 19, 27, 1, 14, 4, 27, 20, 15, 27, 4, 5, 22, 5, 12, 15, 16, 27, 1, 27, 13, 1, 20, 5, 18, 9, 1, 12, 27, 3, 9, 22, 9, 12, 9, 26, 1, 20, 9, 15, 14, 0, 0, 0, 0, 0, 0, 0, 0, 0, 0, 0, 0, 0, 0, 0, 0, 0, 0, 0, 0, 0, 0, 0, 0, 0, 0, 0, 0, 0, 0, 0, 0, 0, 0, 0, 0, 0, 0, 0, 0, 0, 0, 0, 0, 0, 0, 0, 0, 0, 0, 0, 0, 0, 0, 0, 0, 0, 0, 0, 0, 0, 0, 0, 0, 0, 0, 0, 0, 0, 0, 0, 0, 0, 0, 0, 0, 0, 0, 0, 0, 0, 0, 0, 0, 0, 0, 0, 0, 0, 0, 0, 0, 0, 0, 0, 0, 0, 0, 0, 0, 0, 0, 0, 0, 0, 0, 0, 0, 0, 0, 0, 0, 0, 0, 0, 0, 0, 0, 0, 0, 0, 0, 0, 0, 0, 0, 0, 0, 0, 0, 0, 0, 0, 0, 0, 0, 0, 0, 0, 0, 0, 0, 0, 0, 0, 0, 0, 0, 0, 0, 0, 0, 0, 0, 0, 0, 0, 0, 0, 0, 0, 0, 0, 0, 0, 0, 0, 0, 0, 0, 0, 0, 0, 0, 0, 0, 0, 0, 0, 0, 0, 0, 0, 0, 0, 0, 0, 0, 0, 0, 0, 0, 0, 0, 0, 0, 0, 0, 0, 0, 0, 0, 0, 0, 0, 0, 0, 0, 0, 0, 0, 0, 0, 0, 0, 0, 0, 0, 0, 0, 0, 0, 0, 0, 0, 0, 0, 0, 0, 0, 0, 0, 0, 0, 0, 0, 0, 0, 0, 0, 0, 0, 0, 0, 0, 0, 0, 0, 0, 0, 0, 0, 0, 0, 0, 0, 0, 0, 0, 0, 0, 0, 0, 0, 0, 0, 0, 0, 0, 0, 0, 0, 0, 0, 0, 0, 0, 0, 0, 0, 0, 0, 0, 0, 0, 0, 0, 0, 0, 0, 0, 0, 0, 0, 0, 0, 0, 0, 0, 0, 0, 0, 0, 0, 0, 0, 0, 0, 0, 0, 0, 0, 0, 0, 0, 0, 0, 0, 0, 0, 0, 0, 0, 0, 0, 0, 0, 0, 0, 0, 0, 0, 0, 0, 0, 0, 0, 0, 0, 0, 0, 0, 0, 0, 0, 0, 0, 0, 0, 0, 0, 0, 0, 0, 0, 0, 0, 0, 0, 0, 0, 0, 0, 0]\n",
            "500\n"
          ],
          "name": "stdout"
        },
        {
          "output_type": "execute_result",
          "data": {
            "text/plain": [
              "<matplotlib.image.AxesImage at 0x7f3a96247d68>"
            ]
          },
          "metadata": {
            "tags": []
          },
          "execution_count": 47
        },
        {
          "output_type": "display_data",
          "data": {
            "image/png": "[encoded data removed]",
            "text/plain": [
              "<Figure size 432x288 with 1 Axes>"
            ]
          },
          "metadata": {
            "tags": [],
            "needs_background": "light"
          }
        }
      ]
    },
    {
      "cell_type": "code",
      "metadata": {
        "id": "yC2Jx3go5HBg",
        "colab_type": "code",
        "colab": {}
      },
      "source": [
        ""
      ],
      "execution_count": 0,
      "outputs": []
    }
  ]
}
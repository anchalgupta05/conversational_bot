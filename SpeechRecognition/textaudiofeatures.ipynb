{
  "nbformat": 4,
  "nbformat_minor": 0,
  "metadata": {
    "colab": {
      "name": "textaudiofeatures.ipynb",
      "provenance": []
    },
    "kernelspec": {
      "name": "python3",
      "display_name": "Python 3"
    },
    "accelerator": "GPU"
  },
  "cells": [
    {
      "cell_type": "code",
      "metadata": {
        "id": "8AoHl2akh7WO",
        "colab_type": "code",
        "colab": {
          "base_uri": "https://localhost:8080/",
          "height": 659
        },
        "outputId": "97cf713d-f21f-4890-fef6-cc7a348e8ae7"
      },
      "source": [
        "#  Copyright 2018 The TensorFlow Authors. All Rights Reserved.\n",
        "#\n",
        "#  Licensed under the Apache License, Version 2.0 (the \"License\");\n",
        "#  you may not use this file except in compliance with the License.\n",
        "#  You may obtain a copy of the License at\n",
        "#\n",
        "#   http://www.apache.org/licenses/LICENSE-2.0\n",
        "#\n",
        "#  Unless required by applicable law or agreed to in writing, software\n",
        "#  distributed under the License is distributed on an \"AS IS\" BASIS,\n",
        "#  WITHOUT WARRANTIES OR CONDITIONS OF ANY KIND, either express or implied.\n",
        "#  See the License for the specific language governing permissions and\n",
        "#  limitations under the License.\n",
        "# ==============================================================================\n",
        "\"\"\"Using this class, we can extract features from the text and audio input.\"\"\"\n",
        "!pip install tensorflow==1.12.0\n",
        "import tensorflow as tf\n",
        "print(tf.__version__)\n",
        "# since tensorflow 2 is not supported by the model\n",
        "\n",
        "from __future__ import absolute_import\n",
        "from __future__ import division\n",
        "from __future__ import print_function\n",
        "import __future__\n",
        "# future statements like absolute_import, division and print_function required\n",
        "\n",
        "import codecs\n",
        "import numpy as np\n",
        "\n",
        "def spectrogram_features(samples, samplerate, stridems=10.0,\n",
        "                                windowms=20.0, freqmax=None, eps=1e-14):\n",
        "  \"\"\"Compute the spectrograms for the input samples(waveforms).\"\"\"\n",
        "  \n",
        "  # samplerate is the number of times a signal is read in a second (eg n, then the signal is sampled every 1/n seconds)\n",
        "  # windowms is the number of samples(window duration) in ms\n",
        "\n",
        "  # samplerate/2 is the Nyquist frequency\n",
        "  if freqmax is None:\n",
        "    freqmax = samplerate / 2\n",
        "\n",
        "  # raising exception when maximum freq is above Nyquist frequency  \n",
        "  if freqmax > samplerate / 2:\n",
        "    raise ValueError(\"freqmax must not be greater than half of sample rate.\")\n",
        "\n",
        "  if stridems > windowms:\n",
        "    raise ValueError(\"Stride size must not be greater than window size.\")\n",
        "\n",
        "  # stride_size is the frame (window) overlap amplitudes (frequency bins)\n",
        "  # each window is going to have window_size amplitudes\n",
        "  stride_size = int(0.001 * samplerate * stridems)\n",
        "  window_size = int(0.001 * samplerate * windowms)\n",
        "\n",
        "  # Extract strided windows\n",
        "  truncate_size = (len(samples) - window_size) % stride_size\n",
        "  samples = samples[:len(samples) - truncate_size]\n",
        "  nshape = (window_size, (len(samples) - window_size) // stride_size + 1)\n",
        "  nstrides = (samples.strides[0], samples.strides[0] * stride_size)\n",
        "  windows = np.lib.stride_tricks.as_strided(\n",
        "      samples, shape=nshape, strides=nstrides)\n",
        "  assert np.all(\n",
        "      windows[:, 1] == samples[stride_size:(stride_size + window_size)])\n",
        "\n",
        "  # Window weighting, squared Fast Fourier Transform (fft), scaling\n",
        "  # Weighting window is used here to handle discontinuity of this small signal\n",
        "  weighting = np.hanning(window_size)[:, None]\n",
        "  fft = np.fft.rfft(windows * weighting, axis=0)\n",
        "  fft = np.absolute(fft)\n",
        "  fft = fft**2\n",
        "  scale = np.sum(weighting**2) * samplerate\n",
        "  fft[1:-1, :] *= (2.0 / scale)\n",
        "  fft[(0, -1), :] /= scale\n",
        "  # Prepare fft frequency list\n",
        "  freqs = float(samplerate) / window_size * np.arange(fft.shape[0])\n",
        "\n",
        "  # Compute spectrogram feature\n",
        "  ind = np.where(freqs <= freqmax)[0][-1] + 1\n",
        "  specgram = np.log(fft[:ind, :] + eps)\n",
        "  return np.transpose(specgram, (1, 0))\n",
        "\n",
        "\n",
        "class Audio_Featurizer(object):\n",
        "  \"\"\"Class to extract spectrogram features from the audio input.\"\"\"\n",
        "\n",
        "  def __init__(self,\n",
        "               samplerate=16000,\n",
        "               windowms=20.0,\n",
        "               stridems=10.0):\n",
        "    \n",
        "    # samplerate: an integer specifying the sample rate of the input waveform.\n",
        "    # windowms: an integer for the length of a spectrogram frame, in ms.\n",
        "    # stridems: an integer for the frame stride, in ms.\n",
        "    \n",
        "    self.samplerate = samplerate\n",
        "    self.windowms = windowms\n",
        "    self.stridems = stridems\n",
        "\n",
        "\n",
        "def label_feature(text, token_to_index):\n",
        "  \"\"\"Convert string to a list of integers.\"\"\"\n",
        "\n",
        "  # removing all the leading and trailing spaces from a string and then converting into lowercase and making a list of it\n",
        "  tokens = list(text.strip().lower())\n",
        "  features = [token_to_index[token] for token in tokens]\n",
        "  return features\n",
        "\n",
        "\n",
        "class TextFeaturizer(object):\n",
        "  \"\"\"Extract text feature based on char-level granularity.\n",
        "  By looking up the vocabulary table, each input string (one line of transcript)\n",
        "  will be converted to a sequence of integer indexes.\n",
        "  \"\"\"\n",
        "\n",
        "  def __init__(self, vocab_file):\n",
        "    lines = []\n",
        "    with codecs.open(vocab_file, \"r\", \"utf-8\") as fin:\n",
        "      lines.extend(fin.readlines())\n",
        "    self.token_to_index = {}\n",
        "    self.index_to_token = {}\n",
        "    self.speech_labels = \"\"\n",
        "    index = 0\n",
        "    \n",
        "    for line in lines:\n",
        "      line = line[:-1]  \n",
        "      # Strip the '\\n' char.\n",
        "      \n",
        "      if line.startswith(\"#\"):\n",
        "        # Skip from reading comment line.\n",
        "        continue\n",
        "      self.token_to_index[line] = index\n",
        "      self.index_to_token[index] = line\n",
        "      self.speech_labels += line\n",
        "      index += 1"
      ],
      "execution_count": 2,
      "outputs": [
        {
          "output_type": "stream",
          "text": [
            "Collecting tensorflow==1.12.0\n",
            "\u001b[?25l  Downloading https://files.pythonhosted.org/packages/22/cc/ca70b78087015d21c5f3f93694107f34ebccb3be9624385a911d4b52ecef/tensorflow-1.12.0-cp36-cp36m-manylinux1_x86_64.whl (83.1MB)\n",
            "\u001b[K     |████████████████████████████████| 83.1MB 36kB/s \n",
            "\u001b[?25hRequirement already satisfied: numpy>=1.13.3 in /usr/local/lib/python3.6/dist-packages (from tensorflow==1.12.0) (1.18.4)\n",
            "Requirement already satisfied: grpcio>=1.8.6 in /usr/local/lib/python3.6/dist-packages (from tensorflow==1.12.0) (1.29.0)\n",
            "Requirement already satisfied: absl-py>=0.1.6 in /usr/local/lib/python3.6/dist-packages (from tensorflow==1.12.0) (0.9.0)\n",
            "Requirement already satisfied: keras-applications>=1.0.6 in /usr/local/lib/python3.6/dist-packages (from tensorflow==1.12.0) (1.0.8)\n",
            "Requirement already satisfied: gast>=0.2.0 in /usr/local/lib/python3.6/dist-packages (from tensorflow==1.12.0) (0.2.2)\n",
            "Requirement already satisfied: keras-preprocessing>=1.0.5 in /usr/local/lib/python3.6/dist-packages (from tensorflow==1.12.0) (1.1.2)\n",
            "Requirement already satisfied: six>=1.10.0 in /usr/local/lib/python3.6/dist-packages (from tensorflow==1.12.0) (1.12.0)\n",
            "Collecting tensorboard<1.13.0,>=1.12.0\n",
            "\u001b[?25l  Downloading https://files.pythonhosted.org/packages/07/53/8d32ce9471c18f8d99028b7cef2e5b39ea8765bd7ef250ca05b490880971/tensorboard-1.12.2-py3-none-any.whl (3.0MB)\n",
            "\u001b[K     |████████████████████████████████| 3.1MB 34.9MB/s \n",
            "\u001b[?25hRequirement already satisfied: termcolor>=1.1.0 in /usr/local/lib/python3.6/dist-packages (from tensorflow==1.12.0) (1.1.0)\n",
            "Requirement already satisfied: astor>=0.6.0 in /usr/local/lib/python3.6/dist-packages (from tensorflow==1.12.0) (0.8.1)\n",
            "Requirement already satisfied: protobuf>=3.6.1 in /usr/local/lib/python3.6/dist-packages (from tensorflow==1.12.0) (3.10.0)\n",
            "Requirement already satisfied: wheel>=0.26 in /usr/local/lib/python3.6/dist-packages (from tensorflow==1.12.0) (0.34.2)\n",
            "Requirement already satisfied: h5py in /usr/local/lib/python3.6/dist-packages (from keras-applications>=1.0.6->tensorflow==1.12.0) (2.10.0)\n",
            "Requirement already satisfied: markdown>=2.6.8 in /usr/local/lib/python3.6/dist-packages (from tensorboard<1.13.0,>=1.12.0->tensorflow==1.12.0) (3.2.2)\n",
            "Requirement already satisfied: werkzeug>=0.11.10 in /usr/local/lib/python3.6/dist-packages (from tensorboard<1.13.0,>=1.12.0->tensorflow==1.12.0) (1.0.1)\n",
            "Requirement already satisfied: setuptools in /usr/local/lib/python3.6/dist-packages (from protobuf>=3.6.1->tensorflow==1.12.0) (46.4.0)\n",
            "Requirement already satisfied: importlib-metadata; python_version < \"3.8\" in /usr/local/lib/python3.6/dist-packages (from markdown>=2.6.8->tensorboard<1.13.0,>=1.12.0->tensorflow==1.12.0) (1.6.0)\n",
            "Requirement already satisfied: zipp>=0.5 in /usr/local/lib/python3.6/dist-packages (from importlib-metadata; python_version < \"3.8\"->markdown>=2.6.8->tensorboard<1.13.0,>=1.12.0->tensorflow==1.12.0) (3.1.0)\n",
            "Installing collected packages: tensorboard, tensorflow\n",
            "  Found existing installation: tensorboard 1.15.0\n",
            "    Uninstalling tensorboard-1.15.0:\n",
            "      Successfully uninstalled tensorboard-1.15.0\n",
            "  Found existing installation: tensorflow 1.15.2\n",
            "    Uninstalling tensorflow-1.15.2:\n",
            "      Successfully uninstalled tensorflow-1.15.2\n",
            "Successfully installed tensorboard-1.12.2 tensorflow-1.12.0\n"
          ],
          "name": "stdout"
        },
        {
          "output_type": "display_data",
          "data": {
            "application/vnd.colab-display-data+json": {
              "pip_warning": {
                "packages": [
                  "tensorboard",
                  "tensorflow"
                ]
              }
            }
          },
          "metadata": {
            "tags": []
          }
        },
        {
          "output_type": "stream",
          "text": [
            "1.15.2\n"
          ],
          "name": "stdout"
        }
      ]
    },
    {
      "cell_type": "code",
      "metadata": {
        "id": "xfw7pYCnjdry",
        "colab_type": "code",
        "colab": {}
      },
      "source": [
        ""
      ],
      "execution_count": 0,
      "outputs": []
    }
  ]
}